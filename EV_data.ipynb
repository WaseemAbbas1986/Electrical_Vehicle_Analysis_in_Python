{
 "cells": [
  {
   "cell_type": "code",
   "execution_count": 1,
   "metadata": {},
   "outputs": [],
   "source": [
    "import pandas as pd\n",
    "import numpy as np"
   ]
  },
  {
   "cell_type": "code",
   "execution_count": 2,
   "metadata": {},
   "outputs": [
    {
     "data": {
      "text/html": [
       "<div>\n",
       "<style scoped>\n",
       "    .dataframe tbody tr th:only-of-type {\n",
       "        vertical-align: middle;\n",
       "    }\n",
       "\n",
       "    .dataframe tbody tr th {\n",
       "        vertical-align: top;\n",
       "    }\n",
       "\n",
       "    .dataframe thead th {\n",
       "        text-align: right;\n",
       "    }\n",
       "</style>\n",
       "<table border=\"1\" class=\"dataframe\">\n",
       "  <thead>\n",
       "    <tr style=\"text-align: right;\">\n",
       "      <th></th>\n",
       "      <th>VIN (1-10)</th>\n",
       "      <th>County</th>\n",
       "      <th>City</th>\n",
       "      <th>State</th>\n",
       "      <th>Postal Code</th>\n",
       "      <th>Model Year</th>\n",
       "      <th>Make</th>\n",
       "      <th>Model</th>\n",
       "      <th>Electric Vehicle Type</th>\n",
       "      <th>Clean Alternative Fuel Vehicle (CAFV) Eligibility</th>\n",
       "      <th>Electric Range</th>\n",
       "      <th>Base MSRP</th>\n",
       "      <th>Legislative District</th>\n",
       "      <th>DOL Vehicle ID</th>\n",
       "      <th>Vehicle Location</th>\n",
       "      <th>Electric Utility</th>\n",
       "      <th>2020 Census Tract</th>\n",
       "    </tr>\n",
       "  </thead>\n",
       "  <tbody>\n",
       "    <tr>\n",
       "      <th>0</th>\n",
       "      <td>5UXTA6C0XM</td>\n",
       "      <td>Kitsap</td>\n",
       "      <td>Seabeck</td>\n",
       "      <td>WA</td>\n",
       "      <td>98380.0</td>\n",
       "      <td>2021</td>\n",
       "      <td>BMW</td>\n",
       "      <td>X5</td>\n",
       "      <td>Plug-in Hybrid Electric Vehicle (PHEV)</td>\n",
       "      <td>Clean Alternative Fuel Vehicle Eligible</td>\n",
       "      <td>30.0</td>\n",
       "      <td>0.0</td>\n",
       "      <td>35.0</td>\n",
       "      <td>267929112</td>\n",
       "      <td>POINT (-122.8728334 47.5798304)</td>\n",
       "      <td>PUGET SOUND ENERGY INC</td>\n",
       "      <td>5.303509e+10</td>\n",
       "    </tr>\n",
       "    <tr>\n",
       "      <th>1</th>\n",
       "      <td>5YJ3E1EB1J</td>\n",
       "      <td>Kitsap</td>\n",
       "      <td>Poulsbo</td>\n",
       "      <td>WA</td>\n",
       "      <td>98370.0</td>\n",
       "      <td>2018</td>\n",
       "      <td>TESLA</td>\n",
       "      <td>MODEL 3</td>\n",
       "      <td>Battery Electric Vehicle (BEV)</td>\n",
       "      <td>Clean Alternative Fuel Vehicle Eligible</td>\n",
       "      <td>215.0</td>\n",
       "      <td>0.0</td>\n",
       "      <td>23.0</td>\n",
       "      <td>475911439</td>\n",
       "      <td>POINT (-122.6368884 47.7469547)</td>\n",
       "      <td>PUGET SOUND ENERGY INC</td>\n",
       "      <td>5.303509e+10</td>\n",
       "    </tr>\n",
       "    <tr>\n",
       "      <th>2</th>\n",
       "      <td>WP0AD2A73G</td>\n",
       "      <td>Snohomish</td>\n",
       "      <td>Bothell</td>\n",
       "      <td>WA</td>\n",
       "      <td>98012.0</td>\n",
       "      <td>2016</td>\n",
       "      <td>PORSCHE</td>\n",
       "      <td>PANAMERA</td>\n",
       "      <td>Plug-in Hybrid Electric Vehicle (PHEV)</td>\n",
       "      <td>Not eligible due to low battery range</td>\n",
       "      <td>15.0</td>\n",
       "      <td>0.0</td>\n",
       "      <td>1.0</td>\n",
       "      <td>101971278</td>\n",
       "      <td>POINT (-122.206146 47.839957)</td>\n",
       "      <td>PUGET SOUND ENERGY INC</td>\n",
       "      <td>5.306105e+10</td>\n",
       "    </tr>\n",
       "    <tr>\n",
       "      <th>3</th>\n",
       "      <td>5YJ3E1EB5J</td>\n",
       "      <td>Kitsap</td>\n",
       "      <td>Bremerton</td>\n",
       "      <td>WA</td>\n",
       "      <td>98310.0</td>\n",
       "      <td>2018</td>\n",
       "      <td>TESLA</td>\n",
       "      <td>MODEL 3</td>\n",
       "      <td>Battery Electric Vehicle (BEV)</td>\n",
       "      <td>Clean Alternative Fuel Vehicle Eligible</td>\n",
       "      <td>215.0</td>\n",
       "      <td>0.0</td>\n",
       "      <td>23.0</td>\n",
       "      <td>474363746</td>\n",
       "      <td>POINT (-122.6231895 47.5930874)</td>\n",
       "      <td>PUGET SOUND ENERGY INC</td>\n",
       "      <td>5.303508e+10</td>\n",
       "    </tr>\n",
       "    <tr>\n",
       "      <th>4</th>\n",
       "      <td>1N4AZ1CP3K</td>\n",
       "      <td>King</td>\n",
       "      <td>Redmond</td>\n",
       "      <td>WA</td>\n",
       "      <td>98052.0</td>\n",
       "      <td>2019</td>\n",
       "      <td>NISSAN</td>\n",
       "      <td>LEAF</td>\n",
       "      <td>Battery Electric Vehicle (BEV)</td>\n",
       "      <td>Clean Alternative Fuel Vehicle Eligible</td>\n",
       "      <td>150.0</td>\n",
       "      <td>0.0</td>\n",
       "      <td>45.0</td>\n",
       "      <td>476346482</td>\n",
       "      <td>POINT (-122.13158 47.67858)</td>\n",
       "      <td>PUGET SOUND ENERGY INC||CITY OF TACOMA - (WA)</td>\n",
       "      <td>5.303303e+10</td>\n",
       "    </tr>\n",
       "  </tbody>\n",
       "</table>\n",
       "</div>"
      ],
      "text/plain": [
       "   VIN (1-10)     County       City State  Postal Code  Model Year     Make  \\\n",
       "0  5UXTA6C0XM     Kitsap    Seabeck    WA      98380.0        2021      BMW   \n",
       "1  5YJ3E1EB1J     Kitsap    Poulsbo    WA      98370.0        2018    TESLA   \n",
       "2  WP0AD2A73G  Snohomish    Bothell    WA      98012.0        2016  PORSCHE   \n",
       "3  5YJ3E1EB5J     Kitsap  Bremerton    WA      98310.0        2018    TESLA   \n",
       "4  1N4AZ1CP3K       King    Redmond    WA      98052.0        2019   NISSAN   \n",
       "\n",
       "      Model                   Electric Vehicle Type  \\\n",
       "0        X5  Plug-in Hybrid Electric Vehicle (PHEV)   \n",
       "1   MODEL 3          Battery Electric Vehicle (BEV)   \n",
       "2  PANAMERA  Plug-in Hybrid Electric Vehicle (PHEV)   \n",
       "3   MODEL 3          Battery Electric Vehicle (BEV)   \n",
       "4      LEAF          Battery Electric Vehicle (BEV)   \n",
       "\n",
       "  Clean Alternative Fuel Vehicle (CAFV) Eligibility  Electric Range  \\\n",
       "0           Clean Alternative Fuel Vehicle Eligible            30.0   \n",
       "1           Clean Alternative Fuel Vehicle Eligible           215.0   \n",
       "2             Not eligible due to low battery range            15.0   \n",
       "3           Clean Alternative Fuel Vehicle Eligible           215.0   \n",
       "4           Clean Alternative Fuel Vehicle Eligible           150.0   \n",
       "\n",
       "   Base MSRP  Legislative District  DOL Vehicle ID  \\\n",
       "0        0.0                  35.0       267929112   \n",
       "1        0.0                  23.0       475911439   \n",
       "2        0.0                   1.0       101971278   \n",
       "3        0.0                  23.0       474363746   \n",
       "4        0.0                  45.0       476346482   \n",
       "\n",
       "                  Vehicle Location  \\\n",
       "0  POINT (-122.8728334 47.5798304)   \n",
       "1  POINT (-122.6368884 47.7469547)   \n",
       "2    POINT (-122.206146 47.839957)   \n",
       "3  POINT (-122.6231895 47.5930874)   \n",
       "4      POINT (-122.13158 47.67858)   \n",
       "\n",
       "                                Electric Utility  2020 Census Tract  \n",
       "0                         PUGET SOUND ENERGY INC       5.303509e+10  \n",
       "1                         PUGET SOUND ENERGY INC       5.303509e+10  \n",
       "2                         PUGET SOUND ENERGY INC       5.306105e+10  \n",
       "3                         PUGET SOUND ENERGY INC       5.303508e+10  \n",
       "4  PUGET SOUND ENERGY INC||CITY OF TACOMA - (WA)       5.303303e+10  "
      ]
     },
     "execution_count": 2,
     "metadata": {},
     "output_type": "execute_result"
    }
   ],
   "source": [
    "df = pd.read_csv(\"EV.csv\")\n",
    "df.head()"
   ]
  },
  {
   "cell_type": "code",
   "execution_count": 3,
   "metadata": {},
   "outputs": [
    {
     "data": {
      "text/html": [
       "<div>\n",
       "<style scoped>\n",
       "    .dataframe tbody tr th:only-of-type {\n",
       "        vertical-align: middle;\n",
       "    }\n",
       "\n",
       "    .dataframe tbody tr th {\n",
       "        vertical-align: top;\n",
       "    }\n",
       "\n",
       "    .dataframe thead th {\n",
       "        text-align: right;\n",
       "    }\n",
       "</style>\n",
       "<table border=\"1\" class=\"dataframe\">\n",
       "  <thead>\n",
       "    <tr style=\"text-align: right;\">\n",
       "      <th></th>\n",
       "      <th>Postal Code</th>\n",
       "      <th>Model Year</th>\n",
       "      <th>Electric Range</th>\n",
       "      <th>Base MSRP</th>\n",
       "      <th>Legislative District</th>\n",
       "      <th>DOL Vehicle ID</th>\n",
       "      <th>2020 Census Tract</th>\n",
       "    </tr>\n",
       "  </thead>\n",
       "  <tbody>\n",
       "    <tr>\n",
       "      <th>count</th>\n",
       "      <td>210161.000000</td>\n",
       "      <td>210165.000000</td>\n",
       "      <td>210160.000000</td>\n",
       "      <td>210160.000000</td>\n",
       "      <td>209720.000000</td>\n",
       "      <td>2.101650e+05</td>\n",
       "      <td>2.101610e+05</td>\n",
       "    </tr>\n",
       "    <tr>\n",
       "      <th>mean</th>\n",
       "      <td>98178.209406</td>\n",
       "      <td>2021.048657</td>\n",
       "      <td>50.602241</td>\n",
       "      <td>897.676889</td>\n",
       "      <td>28.929954</td>\n",
       "      <td>2.290774e+08</td>\n",
       "      <td>5.297929e+10</td>\n",
       "    </tr>\n",
       "    <tr>\n",
       "      <th>std</th>\n",
       "      <td>2445.429402</td>\n",
       "      <td>2.988941</td>\n",
       "      <td>86.973210</td>\n",
       "      <td>7653.588604</td>\n",
       "      <td>14.908392</td>\n",
       "      <td>7.115519e+07</td>\n",
       "      <td>1.551466e+09</td>\n",
       "    </tr>\n",
       "    <tr>\n",
       "      <th>min</th>\n",
       "      <td>1731.000000</td>\n",
       "      <td>1999.000000</td>\n",
       "      <td>0.000000</td>\n",
       "      <td>0.000000</td>\n",
       "      <td>1.000000</td>\n",
       "      <td>4.469000e+03</td>\n",
       "      <td>1.001020e+09</td>\n",
       "    </tr>\n",
       "    <tr>\n",
       "      <th>25%</th>\n",
       "      <td>98052.000000</td>\n",
       "      <td>2019.000000</td>\n",
       "      <td>0.000000</td>\n",
       "      <td>0.000000</td>\n",
       "      <td>17.000000</td>\n",
       "      <td>1.948816e+08</td>\n",
       "      <td>5.303301e+10</td>\n",
       "    </tr>\n",
       "    <tr>\n",
       "      <th>50%</th>\n",
       "      <td>98125.000000</td>\n",
       "      <td>2022.000000</td>\n",
       "      <td>0.000000</td>\n",
       "      <td>0.000000</td>\n",
       "      <td>32.000000</td>\n",
       "      <td>2.405164e+08</td>\n",
       "      <td>5.303303e+10</td>\n",
       "    </tr>\n",
       "    <tr>\n",
       "      <th>75%</th>\n",
       "      <td>98374.000000</td>\n",
       "      <td>2023.000000</td>\n",
       "      <td>42.000000</td>\n",
       "      <td>0.000000</td>\n",
       "      <td>42.000000</td>\n",
       "      <td>2.629758e+08</td>\n",
       "      <td>5.305307e+10</td>\n",
       "    </tr>\n",
       "    <tr>\n",
       "      <th>max</th>\n",
       "      <td>99577.000000</td>\n",
       "      <td>2025.000000</td>\n",
       "      <td>337.000000</td>\n",
       "      <td>845000.000000</td>\n",
       "      <td>49.000000</td>\n",
       "      <td>4.792548e+08</td>\n",
       "      <td>5.602100e+10</td>\n",
       "    </tr>\n",
       "  </tbody>\n",
       "</table>\n",
       "</div>"
      ],
      "text/plain": [
       "         Postal Code     Model Year  Electric Range      Base MSRP  \\\n",
       "count  210161.000000  210165.000000   210160.000000  210160.000000   \n",
       "mean    98178.209406    2021.048657       50.602241     897.676889   \n",
       "std      2445.429402       2.988941       86.973210    7653.588604   \n",
       "min      1731.000000    1999.000000        0.000000       0.000000   \n",
       "25%     98052.000000    2019.000000        0.000000       0.000000   \n",
       "50%     98125.000000    2022.000000        0.000000       0.000000   \n",
       "75%     98374.000000    2023.000000       42.000000       0.000000   \n",
       "max     99577.000000    2025.000000      337.000000  845000.000000   \n",
       "\n",
       "       Legislative District  DOL Vehicle ID  2020 Census Tract  \n",
       "count         209720.000000    2.101650e+05       2.101610e+05  \n",
       "mean              28.929954    2.290774e+08       5.297929e+10  \n",
       "std               14.908392    7.115519e+07       1.551466e+09  \n",
       "min                1.000000    4.469000e+03       1.001020e+09  \n",
       "25%               17.000000    1.948816e+08       5.303301e+10  \n",
       "50%               32.000000    2.405164e+08       5.303303e+10  \n",
       "75%               42.000000    2.629758e+08       5.305307e+10  \n",
       "max               49.000000    4.792548e+08       5.602100e+10  "
      ]
     },
     "execution_count": 3,
     "metadata": {},
     "output_type": "execute_result"
    }
   ],
   "source": [
    "df.describe()"
   ]
  },
  {
   "cell_type": "code",
   "execution_count": 4,
   "metadata": {},
   "outputs": [
    {
     "name": "stdout",
     "output_type": "stream",
     "text": [
      "<class 'pandas.core.frame.DataFrame'>\n",
      "RangeIndex: 210165 entries, 0 to 210164\n",
      "Data columns (total 17 columns):\n",
      " #   Column                                             Non-Null Count   Dtype  \n",
      "---  ------                                             --------------   -----  \n",
      " 0   VIN (1-10)                                         210165 non-null  object \n",
      " 1   County                                             210161 non-null  object \n",
      " 2   City                                               210161 non-null  object \n",
      " 3   State                                              210165 non-null  object \n",
      " 4   Postal Code                                        210161 non-null  float64\n",
      " 5   Model Year                                         210165 non-null  int64  \n",
      " 6   Make                                               210165 non-null  object \n",
      " 7   Model                                              210165 non-null  object \n",
      " 8   Electric Vehicle Type                              210165 non-null  object \n",
      " 9   Clean Alternative Fuel Vehicle (CAFV) Eligibility  210165 non-null  object \n",
      " 10  Electric Range                                     210160 non-null  float64\n",
      " 11  Base MSRP                                          210160 non-null  float64\n",
      " 12  Legislative District                               209720 non-null  float64\n",
      " 13  DOL Vehicle ID                                     210165 non-null  int64  \n",
      " 14  Vehicle Location                                   210155 non-null  object \n",
      " 15  Electric Utility                                   210161 non-null  object \n",
      " 16  2020 Census Tract                                  210161 non-null  float64\n",
      "dtypes: float64(5), int64(2), object(10)\n",
      "memory usage: 27.3+ MB\n"
     ]
    }
   ],
   "source": [
    "df.info()"
   ]
  },
  {
   "cell_type": "code",
   "execution_count": 5,
   "metadata": {},
   "outputs": [
    {
     "data": {
      "text/plain": [
       "VIN (1-10)                                             0\n",
       "County                                                 4\n",
       "City                                                   4\n",
       "State                                                  0\n",
       "Postal Code                                            4\n",
       "Model Year                                             0\n",
       "Make                                                   0\n",
       "Model                                                  0\n",
       "Electric Vehicle Type                                  0\n",
       "Clean Alternative Fuel Vehicle (CAFV) Eligibility      0\n",
       "Electric Range                                         5\n",
       "Base MSRP                                              5\n",
       "Legislative District                                 445\n",
       "DOL Vehicle ID                                         0\n",
       "Vehicle Location                                      10\n",
       "Electric Utility                                       4\n",
       "2020 Census Tract                                      4\n",
       "dtype: int64"
      ]
     },
     "execution_count": 5,
     "metadata": {},
     "output_type": "execute_result"
    }
   ],
   "source": [
    "df.isnull().sum()"
   ]
  },
  {
   "cell_type": "code",
   "execution_count": 6,
   "metadata": {},
   "outputs": [],
   "source": [
    "df.dropna(inplace=True)"
   ]
  },
  {
   "cell_type": "code",
   "execution_count": 7,
   "metadata": {},
   "outputs": [
    {
     "data": {
      "text/plain": [
       "VIN (1-10)                                           0\n",
       "County                                               0\n",
       "City                                                 0\n",
       "State                                                0\n",
       "Postal Code                                          0\n",
       "Model Year                                           0\n",
       "Make                                                 0\n",
       "Model                                                0\n",
       "Electric Vehicle Type                                0\n",
       "Clean Alternative Fuel Vehicle (CAFV) Eligibility    0\n",
       "Electric Range                                       0\n",
       "Base MSRP                                            0\n",
       "Legislative District                                 0\n",
       "DOL Vehicle ID                                       0\n",
       "Vehicle Location                                     0\n",
       "Electric Utility                                     0\n",
       "2020 Census Tract                                    0\n",
       "dtype: int64"
      ]
     },
     "execution_count": 7,
     "metadata": {},
     "output_type": "execute_result"
    }
   ],
   "source": [
    "df.isnull().sum()"
   ]
  },
  {
   "cell_type": "code",
   "execution_count": 8,
   "metadata": {},
   "outputs": [
    {
     "data": {
      "text/plain": [
       "County\n",
       "King         107111\n",
       "Snohomish     25392\n",
       "Pierce        16677\n",
       "Clark         12533\n",
       "Thurston       7719\n",
       "Kitsap         6998\n",
       "Spokane        5700\n",
       "Whatcom        5110\n",
       "Benton         2624\n",
       "Skagit         2366\n",
       "Island         2244\n",
       "Yakima         1284\n",
       "Chelan         1279\n",
       "Clallam        1253\n",
       "Jefferson      1138\n",
       "Cowlitz        1097\n",
       "San Juan       1039\n",
       "Mason           980\n",
       "Lewis           954\n",
       "Kittitas        778\n",
       "Name: County, dtype: int64"
      ]
     },
     "execution_count": 8,
     "metadata": {},
     "output_type": "execute_result"
    }
   ],
   "source": [
    "# Evs Count by County\n",
    "df.groupby(\"County\")[\"County\"].count().sort_values(ascending=False).head(20)"
   ]
  },
  {
   "cell_type": "code",
   "execution_count": 9,
   "metadata": {},
   "outputs": [
    {
     "data": {
      "text/plain": [
       "City\n",
       "Seattle          33853\n",
       "Bellevue         10414\n",
       "Vancouver         7475\n",
       "Redmond           7438\n",
       "Bothell           6877\n",
       "Renton            6131\n",
       "Kirkland          6092\n",
       "Sammamish         5995\n",
       "Olympia           5079\n",
       "Tacoma            4454\n",
       "Bellingham        3475\n",
       "Kent              3472\n",
       "Spokane           3367\n",
       "Lynnwood          3332\n",
       "Tukwila           3178\n",
       "Issaquah          3143\n",
       "Everett           3106\n",
       "Woodinville       2691\n",
       "Mercer Island     2621\n",
       "Snohomish         2426\n",
       "Name: City, dtype: int64"
      ]
     },
     "execution_count": 9,
     "metadata": {},
     "output_type": "execute_result"
    }
   ],
   "source": [
    "# Evs Count by City\n",
    "df.groupby(\"City\")[\"City\"].count().sort_values(ascending=False).head(20)"
   ]
  },
  {
   "cell_type": "code",
   "execution_count": 10,
   "metadata": {},
   "outputs": [
    {
     "data": {
      "text/plain": [
       "Model\n",
       "MODEL Y           43937\n",
       "MODEL 3           32432\n",
       "LEAF              13596\n",
       "MODEL S            7774\n",
       "BOLT EV            6770\n",
       "MODEL X            6227\n",
       "VOLT               4805\n",
       "ID.4               4705\n",
       "MUSTANG MACH-E     4354\n",
       "WRANGLER           4102\n",
       "NIRO               3761\n",
       "PACIFICA           3714\n",
       "IONIQ 5            3263\n",
       "RAV4 PRIME         3158\n",
       "PRIUS PRIME        3097\n",
       "R1S                3055\n",
       "BOLT EUV           2793\n",
       "EV6                2755\n",
       "X5                 2583\n",
       "F-150              2383\n",
       "Name: Model, dtype: int64"
      ]
     },
     "execution_count": 10,
     "metadata": {},
     "output_type": "execute_result"
    }
   ],
   "source": [
    "# Count by Model\n",
    "df.groupby(\"Model\")[\"Model\"].count().sort_values(ascending=False).head(20)"
   ]
  },
  {
   "cell_type": "code",
   "execution_count": 11,
   "metadata": {},
   "outputs": [
    {
     "data": {
      "text/plain": [
       "Make\n",
       "JAGUAR                  204.0\n",
       "WHEEGO ELECTRIC CARS    100.0\n",
       "TH!NK                   100.0\n",
       "CHEVROLET                89.0\n",
       "FIAT                     83.0\n",
       "NISSAN                   75.0\n",
       "TESLA                    66.0\n",
       "SMART                    62.0\n",
       "AZURE DYNAMICS           56.0\n",
       "AUDI                     46.0\n",
       "PORSCHE                  43.0\n",
       "KIA                      37.0\n",
       "ALFA ROMEO               33.0\n",
       "CHRYSLER                 32.0\n",
       "DODGE                    32.0\n",
       "BMW                      32.0\n",
       "MITSUBISHI               31.0\n",
       "HONDA                    30.0\n",
       "LAND ROVER               30.0\n",
       "POLESTAR                 29.0\n",
       "Name: Electric Range, dtype: float64"
      ]
     },
     "execution_count": 11,
     "metadata": {},
     "output_type": "execute_result"
    }
   ],
   "source": [
    "# Average Range by Make\n",
    "df.groupby(\"Make\")[\"Electric Range\"].mean().sort_values(ascending=False).round().head(20)"
   ]
  },
  {
   "cell_type": "code",
   "execution_count": 12,
   "metadata": {},
   "outputs": [
    {
     "data": {
      "text/plain": [
       "Model\n",
       "KONA                258.0\n",
       "ROADSTER            229.0\n",
       "I-PACE              204.0\n",
       "MODEL S             173.0\n",
       "BOLT EV             168.0\n",
       "MODEL X             128.0\n",
       "E-TRON              127.0\n",
       "E-GOLF              107.0\n",
       "RAV4                103.0\n",
       "WHEEGO              100.0\n",
       "CITY                100.0\n",
       "MODEL 3             100.0\n",
       "SOUL EV              98.0\n",
       "SOUL                 93.0\n",
       "E-TRON SPORTBACK     93.0\n",
       "I3                   90.0\n",
       "B-CLASS              87.0\n",
       "500                  86.0\n",
       "SPARK                82.0\n",
       "LEAF                 81.0\n",
       "Name: Electric Range, dtype: float64"
      ]
     },
     "execution_count": 12,
     "metadata": {},
     "output_type": "execute_result"
    }
   ],
   "source": [
    "# Average Range by Model\n",
    "df.groupby(\"Model\")[\"Electric Range\"].mean().sort_values(ascending=False).round().head(20)"
   ]
  },
  {
   "cell_type": "code",
   "execution_count": 13,
   "metadata": {},
   "outputs": [
    {
     "data": {
      "text/plain": [
       "Legislative District\n",
       "41.0    13195\n",
       "45.0    12191\n",
       "48.0    11348\n",
       "1.0      9099\n",
       "5.0      8954\n",
       "11.0     8953\n",
       "36.0     8404\n",
       "46.0     7848\n",
       "43.0     7341\n",
       "37.0     6112\n",
       "34.0     6063\n",
       "44.0     5750\n",
       "18.0     5658\n",
       "21.0     5315\n",
       "22.0     5249\n",
       "32.0     5111\n",
       "23.0     4506\n",
       "40.0     4396\n",
       "26.0     4197\n",
       "47.0     3946\n",
       "Name: Electric Range, dtype: int64"
      ]
     },
     "execution_count": 13,
     "metadata": {},
     "output_type": "execute_result"
    }
   ],
   "source": [
    "# Distribution of EVs by Legislative District:\n",
    "df.groupby(\"Legislative District\")[\"Electric Range\"].count().sort_values(ascending=False).head(20)"
   ]
  },
  {
   "cell_type": "code",
   "execution_count": 14,
   "metadata": {},
   "outputs": [
    {
     "data": {
      "text/plain": [
       "Postal Code\n",
       "98052.0    5256\n",
       "98012.0    3959\n",
       "98033.0    3485\n",
       "98006.0    3314\n",
       "98188.0    3229\n",
       "Name: Electric Range, dtype: int64"
      ]
     },
     "execution_count": 14,
     "metadata": {},
     "output_type": "execute_result"
    }
   ],
   "source": [
    "# Top 5 Postal Codes with the Most EVs\n",
    "df.groupby(\"Postal Code\")[\"Electric Range\"].count().sort_values(ascending=False).head(5)"
   ]
  },
  {
   "cell_type": "code",
   "execution_count": 15,
   "metadata": {},
   "outputs": [
    {
     "data": {
      "text/plain": [
       "Electric Vehicle Type\n",
       "Battery Electric Vehicle (BEV)            165232\n",
       "Plug-in Hybrid Electric Vehicle (PHEV)     44477\n",
       "Name: Electric Range, dtype: int64"
      ]
     },
     "execution_count": 15,
     "metadata": {},
     "output_type": "execute_result"
    }
   ],
   "source": [
    "# Count of Each Electric Vehicle Type\n",
    "df.groupby(\"Electric Vehicle Type\")[\"Electric Range\"].count().sort_values(ascending=False).head(5)"
   ]
  },
  {
   "cell_type": "code",
   "execution_count": 16,
   "metadata": {},
   "outputs": [
    {
     "data": {
      "text/plain": [
       "Electric Vehicle Type\n",
       "Battery Electric Vehicle (BEV)            56.0\n",
       "Plug-in Hybrid Electric Vehicle (PHEV)    31.0\n",
       "Name: Electric Range, dtype: float64"
      ]
     },
     "execution_count": 16,
     "metadata": {},
     "output_type": "execute_result"
    }
   ],
   "source": [
    "# Average Electric Range by Electric Vehicle Type\n",
    "df.groupby(\"Electric Vehicle Type\")[\"Electric Range\"].mean().sort_values(ascending=False).round().head(20)"
   ]
  },
  {
   "cell_type": "code",
   "execution_count": 17,
   "metadata": {},
   "outputs": [
    {
     "data": {
      "text/plain": [
       "Clean Alternative Fuel Vehicle (CAFV) Eligibility\n",
       "Eligibility unknown as battery range has not been researched    118427\n",
       "Clean Alternative Fuel Vehicle Eligible                          69870\n",
       "Not eligible due to low battery range                            21412\n",
       "Name: Electric Range, dtype: int64"
      ]
     },
     "execution_count": 17,
     "metadata": {},
     "output_type": "execute_result"
    }
   ],
   "source": [
    "# Count of EVs Eligible for CAFV\n",
    "df.groupby(\"Clean Alternative Fuel Vehicle (CAFV) Eligibility\")[\"Electric Range\"].count().sort_values(ascending=False).head(5)"
   ]
  },
  {
   "cell_type": "code",
   "execution_count": 18,
   "metadata": {},
   "outputs": [
    {
     "data": {
      "text/plain": [
       "Electric Utility\n",
       "PUGET SOUND ENERGY INC||CITY OF TACOMA - (WA)                                            76603\n",
       "PUGET SOUND ENERGY INC                                                                   43318\n",
       "CITY OF SEATTLE - (WA)|CITY OF TACOMA - (WA)                                             36245\n",
       "BONNEVILLE POWER ADMINISTRATION||PUD NO 1 OF CLARK COUNTY - (WA)                         12234\n",
       "BONNEVILLE POWER ADMINISTRATION||CITY OF TACOMA - (WA)||PENINSULA LIGHT COMPANY           9343\n",
       "PUGET SOUND ENERGY INC||PUD NO 1 OF WHATCOM COUNTY                                        4824\n",
       "BONNEVILLE POWER ADMINISTRATION||AVISTA CORP||INLAND POWER & LIGHT COMPANY                3469\n",
       "BONNEVILLE POWER ADMINISTRATION||PUD 1 OF SNOHOMISH COUNTY                                1867\n",
       "PACIFICORP                                                                                1660\n",
       "BONNEVILLE POWER ADMINISTRATION||PUD NO 1 OF BENTON COUNTY                                1520\n",
       "MODERN ELECTRIC WATER COMPANY                                                             1390\n",
       "PUD NO 1 OF CHELAN COUNTY                                                                 1279\n",
       "BONNEVILLE POWER ADMINISTRATION||PUGET SOUND ENERGY INC||PUD NO 1 OF JEFFERSON COUNTY     1110\n",
       "BONNEVILLE POWER ADMINISTRATION||CITY OF RICHLAND - (WA)                                  1104\n",
       "BONNEVILLE POWER ADMINISTRATION||PUD NO 1 OF COWLITZ COUNTY                               1097\n",
       "BONNEVILLE POWER ADMINISTRATION||ORCAS POWER & LIGHT COOP                                 1035\n",
       "BONNEVILLE POWER ADMINISTRATION||PUD NO 1 OF CLALLAM COUNTY                                964\n",
       "BONNEVILLE POWER ADMINISTRATION||CITY OF TACOMA - (WA)||PUD NO 3 OF MASON COUNTY           839\n",
       "BONNEVILLE POWER ADMINISTRATION||PUD NO 1 OF GRAYS HARBOR COUNTY                           747\n",
       "PUD NO 2 OF GRANT COUNTY                                                                   737\n",
       "Name: Electric Range, dtype: int64"
      ]
     },
     "execution_count": 18,
     "metadata": {},
     "output_type": "execute_result"
    }
   ],
   "source": [
    "# EV Counts by Electric Utility\n",
    "df.groupby(\"Electric Utility\")[\"Electric Range\"].count().sort_values(ascending=False).head(20)"
   ]
  },
  {
   "cell_type": "code",
   "execution_count": null,
   "metadata": {},
   "outputs": [
    {
     "data": {
      "text/html": [
       "<div>\n",
       "<style scoped>\n",
       "    .dataframe tbody tr th:only-of-type {\n",
       "        vertical-align: middle;\n",
       "    }\n",
       "\n",
       "    .dataframe tbody tr th {\n",
       "        vertical-align: top;\n",
       "    }\n",
       "\n",
       "    .dataframe thead th {\n",
       "        text-align: right;\n",
       "    }\n",
       "</style>\n",
       "<table border=\"1\" class=\"dataframe\">\n",
       "  <thead>\n",
       "    <tr style=\"text-align: right;\">\n",
       "      <th></th>\n",
       "      <th>Postal Code</th>\n",
       "      <th>Model Year</th>\n",
       "      <th>Electric Range</th>\n",
       "      <th>Base MSRP</th>\n",
       "      <th>Legislative District</th>\n",
       "      <th>DOL Vehicle ID</th>\n",
       "      <th>2020 Census Tract</th>\n",
       "    </tr>\n",
       "  </thead>\n",
       "  <tbody>\n",
       "    <tr>\n",
       "      <th>Postal Code</th>\n",
       "      <td>1.000000</td>\n",
       "      <td>-0.047336</td>\n",
       "      <td>0.009289</td>\n",
       "      <td>-0.001601</td>\n",
       "      <td>-0.412332</td>\n",
       "      <td>0.002001</td>\n",
       "      <td>0.021661</td>\n",
       "    </tr>\n",
       "    <tr>\n",
       "      <th>Model Year</th>\n",
       "      <td>-0.047336</td>\n",
       "      <td>1.000000</td>\n",
       "      <td>-0.513682</td>\n",
       "      <td>-0.230498</td>\n",
       "      <td>-0.016823</td>\n",
       "      <td>0.215705</td>\n",
       "      <td>-0.014191</td>\n",
       "    </tr>\n",
       "    <tr>\n",
       "      <th>Electric Range</th>\n",
       "      <td>0.009289</td>\n",
       "      <td>-0.513682</td>\n",
       "      <td>1.000000</td>\n",
       "      <td>0.114288</td>\n",
       "      <td>0.019020</td>\n",
       "      <td>-0.140817</td>\n",
       "      <td>-0.006053</td>\n",
       "    </tr>\n",
       "    <tr>\n",
       "      <th>Base MSRP</th>\n",
       "      <td>-0.001601</td>\n",
       "      <td>-0.230498</td>\n",
       "      <td>0.114288</td>\n",
       "      <td>1.000000</td>\n",
       "      <td>0.010489</td>\n",
       "      <td>-0.039272</td>\n",
       "      <td>-0.001948</td>\n",
       "    </tr>\n",
       "    <tr>\n",
       "      <th>Legislative District</th>\n",
       "      <td>-0.412332</td>\n",
       "      <td>-0.016823</td>\n",
       "      <td>0.019020</td>\n",
       "      <td>0.010489</td>\n",
       "      <td>1.000000</td>\n",
       "      <td>-0.010730</td>\n",
       "      <td>-0.100696</td>\n",
       "    </tr>\n",
       "    <tr>\n",
       "      <th>DOL Vehicle ID</th>\n",
       "      <td>0.002001</td>\n",
       "      <td>0.215705</td>\n",
       "      <td>-0.140817</td>\n",
       "      <td>-0.039272</td>\n",
       "      <td>-0.010730</td>\n",
       "      <td>1.000000</td>\n",
       "      <td>-0.004524</td>\n",
       "    </tr>\n",
       "    <tr>\n",
       "      <th>2020 Census Tract</th>\n",
       "      <td>0.021661</td>\n",
       "      <td>-0.014191</td>\n",
       "      <td>-0.006053</td>\n",
       "      <td>-0.001948</td>\n",
       "      <td>-0.100696</td>\n",
       "      <td>-0.004524</td>\n",
       "      <td>1.000000</td>\n",
       "    </tr>\n",
       "  </tbody>\n",
       "</table>\n",
       "</div>"
      ],
      "text/plain": [
       "                      Postal Code  Model Year  Electric Range  Base MSRP  \\\n",
       "Postal Code              1.000000   -0.047336        0.009289  -0.001601   \n",
       "Model Year              -0.047336    1.000000       -0.513682  -0.230498   \n",
       "Electric Range           0.009289   -0.513682        1.000000   0.114288   \n",
       "Base MSRP               -0.001601   -0.230498        0.114288   1.000000   \n",
       "Legislative District    -0.412332   -0.016823        0.019020   0.010489   \n",
       "DOL Vehicle ID           0.002001    0.215705       -0.140817  -0.039272   \n",
       "2020 Census Tract        0.021661   -0.014191       -0.006053  -0.001948   \n",
       "\n",
       "                      Legislative District  DOL Vehicle ID  2020 Census Tract  \n",
       "Postal Code                      -0.412332        0.002001           0.021661  \n",
       "Model Year                       -0.016823        0.215705          -0.014191  \n",
       "Electric Range                    0.019020       -0.140817          -0.006053  \n",
       "Base MSRP                         0.010489       -0.039272          -0.001948  \n",
       "Legislative District              1.000000       -0.010730          -0.100696  \n",
       "DOL Vehicle ID                   -0.010730        1.000000          -0.004524  \n",
       "2020 Census Tract                -0.100696       -0.004524           1.000000  "
      ]
     },
     "execution_count": 23,
     "metadata": {},
     "output_type": "execute_result"
    }
   ],
   "source": [
    "# Coorelation\n",
    "df.corr(numeric_only=True)"
   ]
  },
  {
   "cell_type": "code",
   "execution_count": 25,
   "metadata": {},
   "outputs": [
    {
     "data": {
      "text/plain": [
       "Model Year\n",
       "2023    59961\n",
       "2024    35200\n",
       "2022    28172\n",
       "2021    19748\n",
       "2018    14261\n",
       "2020    12103\n",
       "2019    10730\n",
       "2017     8569\n",
       "2016     5442\n",
       "2015     4710\n",
       "2013     4300\n",
       "2014     3445\n",
       "2012     1546\n",
       "2025      760\n",
       "2011      704\n",
       "2010       24\n",
       "2008       22\n",
       "2000        7\n",
       "1999        2\n",
       "2002        2\n",
       "2003        1\n",
       "Name: VIN (1-10), dtype: int64"
      ]
     },
     "execution_count": 25,
     "metadata": {},
     "output_type": "execute_result"
    }
   ],
   "source": [
    "# EV Count by Model Year\n",
    "df.groupby(\"Model Year\")[\"VIN (1-10)\"].count().sort_values(ascending=False)"
   ]
  },
  {
   "cell_type": "code",
   "execution_count": 43,
   "metadata": {},
   "outputs": [
    {
     "data": {
      "text/html": [
       "<div>\n",
       "<style scoped>\n",
       "    .dataframe tbody tr th:only-of-type {\n",
       "        vertical-align: middle;\n",
       "    }\n",
       "\n",
       "    .dataframe tbody tr th {\n",
       "        vertical-align: top;\n",
       "    }\n",
       "\n",
       "    .dataframe thead th {\n",
       "        text-align: right;\n",
       "    }\n",
       "</style>\n",
       "<table border=\"1\" class=\"dataframe\">\n",
       "  <thead>\n",
       "    <tr style=\"text-align: right;\">\n",
       "      <th></th>\n",
       "      <th>count</th>\n",
       "      <th>Avg_Range</th>\n",
       "    </tr>\n",
       "    <tr>\n",
       "      <th>Model</th>\n",
       "      <th></th>\n",
       "      <th></th>\n",
       "    </tr>\n",
       "  </thead>\n",
       "  <tbody>\n",
       "    <tr>\n",
       "      <th>MODEL 3</th>\n",
       "      <td>13575</td>\n",
       "      <td>238.76</td>\n",
       "    </tr>\n",
       "    <tr>\n",
       "      <th>MODEL S</th>\n",
       "      <td>5904</td>\n",
       "      <td>227.53</td>\n",
       "    </tr>\n",
       "    <tr>\n",
       "      <th>BOLT EV</th>\n",
       "      <td>4639</td>\n",
       "      <td>244.98</td>\n",
       "    </tr>\n",
       "    <tr>\n",
       "      <th>MODEL Y</th>\n",
       "      <td>2236</td>\n",
       "      <td>291.00</td>\n",
       "    </tr>\n",
       "    <tr>\n",
       "      <th>MODEL X</th>\n",
       "      <td>1999</td>\n",
       "      <td>267.19</td>\n",
       "    </tr>\n",
       "    <tr>\n",
       "      <th>NIRO</th>\n",
       "      <td>898</td>\n",
       "      <td>239.00</td>\n",
       "    </tr>\n",
       "    <tr>\n",
       "      <th>E-TRON</th>\n",
       "      <td>652</td>\n",
       "      <td>207.70</td>\n",
       "    </tr>\n",
       "    <tr>\n",
       "      <th>LEAF</th>\n",
       "      <td>276</td>\n",
       "      <td>215.00</td>\n",
       "    </tr>\n",
       "    <tr>\n",
       "      <th>KONA</th>\n",
       "      <td>233</td>\n",
       "      <td>258.00</td>\n",
       "    </tr>\n",
       "    <tr>\n",
       "      <th>I-PACE</th>\n",
       "      <td>207</td>\n",
       "      <td>234.00</td>\n",
       "    </tr>\n",
       "    <tr>\n",
       "      <th>PS2</th>\n",
       "      <td>145</td>\n",
       "      <td>233.00</td>\n",
       "    </tr>\n",
       "    <tr>\n",
       "      <th>TAYCAN</th>\n",
       "      <td>135</td>\n",
       "      <td>203.00</td>\n",
       "    </tr>\n",
       "    <tr>\n",
       "      <th>E-TRON SPORTBACK</th>\n",
       "      <td>74</td>\n",
       "      <td>218.00</td>\n",
       "    </tr>\n",
       "    <tr>\n",
       "      <th>ROADSTER</th>\n",
       "      <td>48</td>\n",
       "      <td>234.06</td>\n",
       "    </tr>\n",
       "  </tbody>\n",
       "</table>\n",
       "</div>"
      ],
      "text/plain": [
       "                  count  Avg_Range\n",
       "Model                             \n",
       "MODEL 3           13575     238.76\n",
       "MODEL S            5904     227.53\n",
       "BOLT EV            4639     244.98\n",
       "MODEL Y            2236     291.00\n",
       "MODEL X            1999     267.19\n",
       "NIRO                898     239.00\n",
       "E-TRON              652     207.70\n",
       "LEAF                276     215.00\n",
       "KONA                233     258.00\n",
       "I-PACE              207     234.00\n",
       "PS2                 145     233.00\n",
       "TAYCAN              135     203.00\n",
       "E-TRON SPORTBACK     74     218.00\n",
       "ROADSTER             48     234.06"
      ]
     },
     "execution_count": 43,
     "metadata": {},
     "output_type": "execute_result"
    }
   ],
   "source": [
    "# Identify Popular Models with High Electric Range\n",
    "Highrange = df[df[\"Electric Range\"]>200]\n",
    "Highrange.groupby(\"Model\").agg(count=(\"Model\",\"count\"),Avg_Range=(\"Electric Range\",\"mean\")).sort_values(by=\"count\",ascending=False).round(2)"
   ]
  }
 ],
 "metadata": {
  "kernelspec": {
   "display_name": "Python 3",
   "language": "python",
   "name": "python3"
  },
  "language_info": {
   "codemirror_mode": {
    "name": "ipython",
    "version": 3
   },
   "file_extension": ".py",
   "mimetype": "text/x-python",
   "name": "python",
   "nbconvert_exporter": "python",
   "pygments_lexer": "ipython3",
   "version": "3.12.1"
  }
 },
 "nbformat": 4,
 "nbformat_minor": 2
}
